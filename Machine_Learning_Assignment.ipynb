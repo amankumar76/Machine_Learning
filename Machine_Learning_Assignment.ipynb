{
  "nbformat": 4,
  "nbformat_minor": 0,
  "metadata": {
    "colab": {
      "provenance": []
    },
    "kernelspec": {
      "name": "python3",
      "display_name": "Python 3"
    },
    "language_info": {
      "name": "python"
    }
  },
  "cells": [
    {
      "cell_type": "markdown",
      "source": [
        "# **Machine Learning Intro | Assignment**\n",
        "---"
      ],
      "metadata": {
        "id": "_Igw6jUY-iUv"
      }
    },
    {
      "cell_type": "markdown",
      "source": [
        "Question 1: Explain the differences between AI, ML, Deep Learning (DL), and Data Science (DS).\n",
        "\n",
        "Answer:\n",
        "\n",
        "  - Artificial Intelligence (AI): A broad field that focuses on creating systems capable of mimicking human intelligence, such as reasoning, learning, and problem-solving. Example: Chatbots.\n",
        "\n",
        "  - Machine Learning (ML): A subset of AI that uses algorithms to learn patterns from data and improve predictions/decisions without being explicitly programmed. Example: Spam email filtering.\n",
        "\n",
        "  - Deep Learning (DL): A subset of ML that uses neural networks with multiple layers to process complex data like images, audio, and text. Example: Image recognition.\n",
        "\n",
        "  - Data Science (DS): An interdisciplinary field involving statistics, programming, and domain knowledge to extract insights and knowledge from structured/unstructured data. Example: Sales trend analysis."
      ],
      "metadata": {
        "id": "sX1RB1qm-iXD"
      }
    },
    {
      "cell_type": "markdown",
      "source": [
        "Question 2: What are the types of machine learning? Describe each with one real-world example.\n",
        "\n",
        "Answer:\n",
        "\n",
        "  - Supervised Learning: Uses labeled data to train models. Example: Predicting house prices.\n",
        "\n",
        "  - Unsupervised Learning: Works with unlabeled data to find hidden patterns. Example: Customer segmentation using clustering.\n",
        "\n",
        "  - Reinforcement Learning: Agent learns by interacting with an environment through trial and error. Example: Self-driving cars.\n",
        "\n",
        "  - Semi-Supervised Learning: Uses a small amount of labeled data and a large amount of unlabeled data. Example: Fraud detection with limited fraud cases."
      ],
      "metadata": {
        "id": "jMK0VQ3w-iZc"
      }
    },
    {
      "cell_type": "markdown",
      "source": [
        "Question 3: Define overfitting, underfitting, and the bias-variance tradeoff in machine learning.\n",
        "\n",
        "Answer:\n",
        "\n",
        "  - Overfitting: The model learns the training data too well (including noise), leading to poor generalization on new data.\n",
        "\n",
        "  - Underfitting: The model is too simple and fails to capture the underlying patterns in the data.\n",
        "\n",
        "  - Bias-Variance Tradeoff: Balancing error due to bias (underfitting) and variance (overfitting) to achieve optimal model performance."
      ],
      "metadata": {
        "id": "HeB8oiIG-ibV"
      }
    },
    {
      "cell_type": "markdown",
      "source": [
        "Question 4: What are outliers in a dataset, and list three common techniques for handling them.\n",
        "\n",
        "Answer:\n",
        "\n",
        "  - Outliers: Data points that deviate significantly from the majority of the data, potentially skewing analysis or model training.\n",
        "Techniques:\n",
        "\n",
        "  1.  Remove outliers using statistical methods (e.g., Z-score, IQR).\n",
        "\n",
        "  2.  Transform the data (e.g., log transformation).\n",
        "\n",
        "  3.  Cap or Winsorize values (replace extreme values with nearest acceptable values)."
      ],
      "metadata": {
        "id": "NxmesAth-idz"
      }
    },
    {
      "cell_type": "markdown",
      "source": [
        "Question 5: Explain the process of handling missing values and mention one imputation technique for numerical and one for categorical data.\n",
        "\n",
        "Answer:\n",
        "\n",
        "  - Process: Detect missing values → Analyze the pattern → Decide whether to drop or impute → Apply suitable technique.\n",
        "\n",
        "  - Numerical Imputation: Replace missing values with mean/median.\n",
        "\n",
        "  - Categorical Imputation: Replace missing values with the most frequent category (mode)."
      ],
      "metadata": {
        "id": "0RkVFjpw-ifp"
      }
    },
    {
      "cell_type": "markdown",
      "source": [
        "Question 6: Write a Python program that creates a synthetic imbalanced dataset and prints the class distribution."
      ],
      "metadata": {
        "id": "vCIIvvXf-iic"
      }
    },
    {
      "cell_type": "code",
      "source": [
        "from sklearn.datasets import make_classification\n",
        "import numpy as np\n",
        "from collections import Counter\n",
        "\n",
        "# Create dataset\n",
        "X, y = make_classification(n_samples=1000, n_features=5, n_classes=2,\n",
        "                           weights=[0.9, 0.1], random_state=42)\n",
        "\n",
        "# Print class distribution\n",
        "print(\"Class distribution:\", Counter(y))"
      ],
      "metadata": {
        "colab": {
          "base_uri": "https://localhost:8080/"
        },
        "id": "SlVPmJUx_8_j",
        "outputId": "a7bf773a-4d7b-44b2-d472-bb61b7968b60"
      },
      "execution_count": 1,
      "outputs": [
        {
          "output_type": "stream",
          "name": "stdout",
          "text": [
            "Class distribution: Counter({np.int64(0): 895, np.int64(1): 105})\n"
          ]
        }
      ]
    },
    {
      "cell_type": "markdown",
      "source": [
        "Question 7: Implement one-hot encoding using pandas for the following list of colors: ['Red', 'Green', 'Blue', 'Green', 'Red']. Print the resulting dataframe."
      ],
      "metadata": {
        "id": "wiN3nA1--ikW"
      }
    },
    {
      "cell_type": "code",
      "source": [
        "import pandas as pd\n",
        "\n",
        "colors = ['Red', 'Green', 'Blue', 'Green', 'Red']\n",
        "df = pd.DataFrame({'Color': colors})\n",
        "\n",
        "# One-hot encoding\n",
        "encoded = pd.get_dummies(df, columns=['Color'])\n",
        "print(encoded)"
      ],
      "metadata": {
        "colab": {
          "base_uri": "https://localhost:8080/"
        },
        "id": "ueJkP_zcAQv8",
        "outputId": "983ed9eb-618d-4e79-d3fe-c070e52cc9cb"
      },
      "execution_count": 2,
      "outputs": [
        {
          "output_type": "stream",
          "name": "stdout",
          "text": [
            "   Color_Blue  Color_Green  Color_Red\n",
            "0       False        False       True\n",
            "1       False         True      False\n",
            "2        True        False      False\n",
            "3       False         True      False\n",
            "4       False        False       True\n"
          ]
        }
      ]
    },
    {
      "cell_type": "markdown",
      "source": [
        "Question 8: Write a Python script to:\n",
        "\n",
        "● Generate 1000 samples from a normal distribution.\n",
        "\n",
        "● Introduce 50 random missing values.\n",
        "\n",
        "● Fill missing values with the column mean.\n",
        "\n",
        "● Plot a histogram before and after imputation"
      ],
      "metadata": {
        "id": "SusV4qW--imN"
      }
    },
    {
      "cell_type": "code",
      "source": [
        "import numpy as np\n",
        "import pandas as pd\n",
        "import matplotlib.pyplot as plt\n",
        "\n",
        "# Generate normal distribution samples\n",
        "data = np.random.normal(50, 10, 1000)\n",
        "\n",
        "# Introduce 50 missing values\n",
        "data[np.random.choice(1000, 50, replace=False)] = np.nan\n",
        "\n",
        "# Convert to DataFrame\n",
        "df = pd.DataFrame(data, columns=['Value'])\n",
        "\n",
        "# Plot before imputation\n",
        "df['Value'].hist(bins=30, alpha=0.5)\n",
        "plt.title(\"Before Imputation\")\n",
        "plt.show()\n",
        "\n",
        "# Fill missing values with mean\n",
        "df['Value'].fillna(df['Value'].mean(), inplace=True)\n",
        "\n",
        "# Plot after imputation\n",
        "df['Value'].hist(bins=30, alpha=0.5, color='orange')\n",
        "plt.title(\"After Imputation\")\n",
        "plt.show()"
      ],
      "metadata": {
        "colab": {
          "base_uri": "https://localhost:8080/",
          "height": 1000
        },
        "id": "qUGNaGtUAkLE",
        "outputId": "6d4c7d0b-e4e8-4d1d-8ddc-f249c32b24cf"
      },
      "execution_count": 3,
      "outputs": [
        {
          "output_type": "display_data",
          "data": {
            "text/plain": [
              "<Figure size 640x480 with 1 Axes>"
            ],
            "image/png": "[encoded data removed]"
          },
          "metadata": {}
        },
        {
          "output_type": "stream",
          "name": "stderr",
          "text": [
            "/tmp/ipython-input-1345351961.py:20: FutureWarning: A value is trying to be set on a copy of a DataFrame or Series through chained assignment using an inplace method.\n",
            "The behavior will change in pandas 3.0. This inplace method will never work because the intermediate object on which we are setting values always behaves as a copy.\n",
            "\n",
            "For example, when doing 'df[col].method(value, inplace=True)', try using 'df.method({col: value}, inplace=True)' or df[col] = df[col].method(value) instead, to perform the operation inplace on the original object.\n",
            "\n",
            "\n",
            "  df['Value'].fillna(df['Value'].mean(), inplace=True)\n"
          ]
        },
        {
          "output_type": "display_data",
          "data": {
            "text/plain": [
              "<Figure size 640x480 with 1 Axes>"
            ],
            "image/png": "[encoded data removed]"
          },
          "metadata": {}
        }
      ]
    },
    {
      "cell_type": "markdown",
      "source": [
        "Question 9: Implement Min-Max scaling on the following list of numbers [2, 5, 10, 15, 20] using sklearn.preprocessing.MinMaxScaler. Print the scaled array.\n"
      ],
      "metadata": {
        "id": "04sJWfFp-in7"
      }
    },
    {
      "cell_type": "code",
      "source": [
        "from sklearn.preprocessing import MinMaxScaler\n",
        "import numpy as np\n",
        "\n",
        "data = np.array([[2], [5], [10], [15], [20]])\n",
        "scaler = MinMaxScaler()\n",
        "scaled = scaler.fit_transform(data)\n",
        "\n",
        "print(\"Scaled data:\\n\", scaled)"
      ],
      "metadata": {
        "colab": {
          "base_uri": "https://localhost:8080/"
        },
        "id": "5fRq6lJVBATX",
        "outputId": "7082bc1d-20d7-452e-935a-548392adca54"
      },
      "execution_count": 4,
      "outputs": [
        {
          "output_type": "stream",
          "name": "stdout",
          "text": [
            "Scaled data:\n",
            " [[0.        ]\n",
            " [0.16666667]\n",
            " [0.44444444]\n",
            " [0.72222222]\n",
            " [1.        ]]\n"
          ]
        }
      ]
    },
    {
      "cell_type": "markdown",
      "source": [
        "Question 10: You are working as a data scientist for a retail company. You receive a customer transaction dataset that contains:\n",
        "\n",
        "● Missing ages,\n",
        "\n",
        "● Outliers in transaction amount,\n",
        "\n",
        "● A highly imbalanced target (fraud vs. non-fraud),\n",
        "\n",
        "● Categorical variables like payment method.\n",
        "\n",
        "Explain the step-by-step data preparation plan you’d follow before training a machine learning model. Include how you’d address missing data, outliers, imbalance, and encoding.\n",
        "\n",
        "Answer\n",
        "\n",
        "1. Handling Missing Ages:\n",
        "\n",
        "  - Use median imputation for numerical feature Age to avoid bias from skewed data.\n",
        "\n",
        "2.  Handling Outliers in Transaction Amount:\n",
        "\n",
        "  - Detect using IQR/Z-score and either cap extreme values or apply log transformation.\n",
        "\n",
        "3.  Handling Imbalance (Fraud vs. Non-fraud):\n",
        "\n",
        "  - Use resampling techniques (SMOTE/undersampling) or apply class weights in the model.\n",
        "\n",
        "4.  Encoding Categorical Variables (Payment Method):\n",
        "\n",
        "  - Apply One-Hot Encoding for nominal variables (e.g., Credit, Debit, UPI).\n",
        "\n",
        "  - If too many categories, consider Target Encoding or Frequency Encoding.\n",
        "\n",
        "5.  Final Steps:\n",
        "\n",
        "  - Scale numerical features using StandardScaler/MinMaxScaler.\n",
        "\n",
        "  - Split into train-test sets.\n",
        "\n",
        "  - Ensure feature engineering is applied consistently across train/test data.\n"
      ],
      "metadata": {
        "id": "lrYp9kR4-iqj"
      }
    }
  ]
}